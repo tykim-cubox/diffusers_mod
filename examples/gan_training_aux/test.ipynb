{
 "cells": [
  {
   "cell_type": "code",
   "execution_count": 1,
   "metadata": {},
   "outputs": [],
   "source": [
    "import torch\n",
    "import torch.nn as nn\n",
    "import sys\n",
    "sys.path.append('/home/aiteam/tykim/cubox/diffusers/src')\n",
    "\n",
    "\n",
    "import os\n",
    "os.chdir('../../')"
   ]
  },
  {
   "cell_type": "code",
   "execution_count": 2,
   "metadata": {},
   "outputs": [],
   "source": [
    "from src.diffusers.models.unet_2d_blocks import *"
   ]
  },
  {
   "cell_type": "code",
   "execution_count": 38,
   "metadata": {},
   "outputs": [],
   "source": [
    "from src.diffusers.models.activations import get_activation"
   ]
  },
  {
   "cell_type": "code",
   "execution_count": 42,
   "metadata": {},
   "outputs": [
    {
     "data": {
      "text/html": [
       "<pre style=\"white-space:pre;overflow-x:auto;line-height:normal;font-family:Menlo,'DejaVu Sans Mono',consolas,'Courier New',monospace\"><span style=\"color: #800000; text-decoration-color: #800000\">╭─────────────────────────────── </span><span style=\"color: #800000; text-decoration-color: #800000; font-weight: bold\">Traceback </span><span style=\"color: #bf7f7f; text-decoration-color: #bf7f7f; font-weight: bold\">(most recent call last)</span><span style=\"color: #800000; text-decoration-color: #800000\"> ────────────────────────────────╮</span>\n",
       "<span style=\"color: #800000; text-decoration-color: #800000\">│</span> in <span style=\"color: #00ff00; text-decoration-color: #00ff00\">&lt;module&gt;</span>:<span style=\"color: #0000ff; text-decoration-color: #0000ff\">1</span>                                                                                    <span style=\"color: #800000; text-decoration-color: #800000\">│</span>\n",
       "<span style=\"color: #800000; text-decoration-color: #800000\">│</span>                                                                                                  <span style=\"color: #800000; text-decoration-color: #800000\">│</span>\n",
       "<span style=\"color: #800000; text-decoration-color: #800000\">│</span> <span style=\"color: #800000; text-decoration-color: #800000\">❱ </span> 1 <span style=\"color: #ff00ff; text-decoration-color: #ff00ff; font-weight: bold\">@dataclass</span>                                                                                  <span style=\"color: #800000; text-decoration-color: #800000\">│</span>\n",
       "<span style=\"color: #800000; text-decoration-color: #800000\">│</span>   <span style=\"color: #7f7f7f; text-decoration-color: #7f7f7f\"> 2 </span><span style=\"color: #0000ff; text-decoration-color: #0000ff\">class</span> <span style=\"color: #00ff00; text-decoration-color: #00ff00; text-decoration: underline\">UNet2DConditionOutput</span>(BaseOutput):                                                    <span style=\"color: #800000; text-decoration-color: #800000\">│</span>\n",
       "<span style=\"color: #800000; text-decoration-color: #800000\">│</span>   <span style=\"color: #7f7f7f; text-decoration-color: #7f7f7f\"> 3 </span><span style=\"color: #bfbfbf; text-decoration-color: #bfbfbf\">│   </span><span style=\"color: #808000; text-decoration-color: #808000\">\"\"\"</span>                                                                                     <span style=\"color: #800000; text-decoration-color: #800000\">│</span>\n",
       "<span style=\"color: #800000; text-decoration-color: #800000\">│</span>   <span style=\"color: #7f7f7f; text-decoration-color: #7f7f7f\"> 4 </span><span style=\"color: #bfbf7f; text-decoration-color: #bfbf7f\">│   </span><span style=\"color: #808000; text-decoration-color: #808000\">Args:</span>                                                                                   <span style=\"color: #800000; text-decoration-color: #800000\">│</span>\n",
       "<span style=\"color: #800000; text-decoration-color: #800000\">╰──────────────────────────────────────────────────────────────────────────────────────────────────╯</span>\n",
       "<span style=\"color: #ff0000; text-decoration-color: #ff0000; font-weight: bold\">NameError: </span>name <span style=\"color: #008000; text-decoration-color: #008000\">'dataclass'</span> is not defined\n",
       "</pre>\n"
      ],
      "text/plain": [
       "\u001b[31m╭─\u001b[0m\u001b[31m──────────────────────────────\u001b[0m\u001b[31m \u001b[0m\u001b[1;31mTraceback \u001b[0m\u001b[1;2;31m(most recent call last)\u001b[0m\u001b[31m \u001b[0m\u001b[31m───────────────────────────────\u001b[0m\u001b[31m─╮\u001b[0m\n",
       "\u001b[31m│\u001b[0m in \u001b[92m<module>\u001b[0m:\u001b[94m1\u001b[0m                                                                                    \u001b[31m│\u001b[0m\n",
       "\u001b[31m│\u001b[0m                                                                                                  \u001b[31m│\u001b[0m\n",
       "\u001b[31m│\u001b[0m \u001b[31m❱ \u001b[0m 1 \u001b[1;95m@dataclass\u001b[0m                                                                                  \u001b[31m│\u001b[0m\n",
       "\u001b[31m│\u001b[0m   \u001b[2m 2 \u001b[0m\u001b[94mclass\u001b[0m \u001b[4;92mUNet2DConditionOutput\u001b[0m(BaseOutput):                                                    \u001b[31m│\u001b[0m\n",
       "\u001b[31m│\u001b[0m   \u001b[2m 3 \u001b[0m\u001b[2;90m│   \u001b[0m\u001b[33m\"\"\"\u001b[0m                                                                                     \u001b[31m│\u001b[0m\n",
       "\u001b[31m│\u001b[0m   \u001b[2m 4 \u001b[0m\u001b[2;33m│   \u001b[0m\u001b[33mArgs:\u001b[0m                                                                                   \u001b[31m│\u001b[0m\n",
       "\u001b[31m╰──────────────────────────────────────────────────────────────────────────────────────────────────╯\u001b[0m\n",
       "\u001b[1;91mNameError: \u001b[0mname \u001b[32m'dataclass'\u001b[0m is not defined\n"
      ]
     },
     "metadata": {},
     "output_type": "display_data"
    }
   ],
   "source": [
    "@dataclass\n",
    "class UNet2DConditionOutput(BaseOutput):\n",
    "    \"\"\"\n",
    "    Args:\n",
    "        sample (`torch.FloatTensor` of shape `(batch_size, num_channels, height, width)`):\n",
    "            Hidden states conditioned on `encoder_hidden_states` input. Output of last layer of model.\n",
    "    \"\"\"\n",
    "\n",
    "    sample: torch.FloatTensor"
   ]
  },
  {
   "cell_type": "code",
   "execution_count": 49,
   "metadata": {},
   "outputs": [],
   "source": [
    "class AuxDecoder(nn.Module):\n",
    "    def __init__(self, \n",
    "                 up_block_types = [\"UpDecoderBlockTimeless2D\", \"AttnUpDecoderBlockTimeless2D\", \"UpDecoderBlockTimeless2D\"],\n",
    "                 block_out_channels = [64, 128, 256, 512],\n",
    "                 layers_per_block = 2,\n",
    "                 norm_eps: float = 1e-5,\n",
    "                 act_fn: str = \"silu\",\n",
    "                 norm_num_groups: int = 32,\n",
    "                 attention_head_dim: Optional[int] = 8\n",
    "                 ):\n",
    "        super().__init__()\n",
    "        reversed_block_out_channels = list(reversed(block_out_channels)) # [512, 256, 128, 64]\n",
    "        self.up_blocks = nn.ModuleList([])\n",
    "        for i, up_block_type in enumerate(up_block_types):\n",
    "            input_channel = reversed_block_out_channels[i]\n",
    "            output_channel = reversed_block_out_channels[min(i + 1, len(block_out_channels) - 1)]\n",
    "\n",
    "            is_final_block = i == len(block_out_channels) - 1\n",
    "\n",
    "            up_block = get_up_block(\n",
    "                up_block_type,\n",
    "                num_layers=layers_per_block + 1,\n",
    "                in_channels=input_channel,\n",
    "                out_channels=output_channel,\n",
    "                prev_output_channel = None,\n",
    "                temb_channels = None,\n",
    "                add_upsample=not is_final_block,\n",
    "                resnet_eps=norm_eps,\n",
    "                resnet_act_fn=act_fn,\n",
    "                resnet_groups=norm_num_groups,\n",
    "                attention_head_dim=attention_head_dim if attention_head_dim is not None else output_channel,\n",
    "            )\n",
    "            self.up_blocks.append(up_block)\n",
    "\n",
    "        # out\n",
    "        if norm_num_groups is not None:\n",
    "            self.conv_norm_out = nn.GroupNorm(\n",
    "                num_channels=block_out_channels[0], num_groups=norm_num_groups, eps=norm_eps\n",
    "            )\n",
    "\n",
    "            self.conv_act = get_activation(act_fn)\n",
    "\n",
    "        else:\n",
    "            self.conv_norm_out = None\n",
    "            self.conv_act = None\n",
    "            \n",
    "        conv_out_kernel = 3\n",
    "        out_channels = 3\n",
    "\n",
    "        conv_out_padding = (conv_out_kernel - 1) // 2\n",
    "        self.conv_out = nn.Conv2d(\n",
    "            block_out_channels[0], out_channels, kernel_size=conv_out_kernel, padding=conv_out_padding\n",
    "        )\n",
    "    def forward(self,\n",
    "                sample: torch.FloatTensor,\n",
    "                return_dict: bool = True):\n",
    "        for upsample_block in self.up_blocks:\n",
    "            sample = upsample_block(sample)\n",
    "        if self.conv_norm_out:\n",
    "            sample = self.conv_norm_out(sample)\n",
    "            sample = self.conv_act(sample)\n",
    "        sample = self.conv_out(sample)\n",
    "\n",
    "        if not return_dict:\n",
    "            return (sample,)\n",
    "\n",
    "        return sample\n",
    "        #return UNet2DConditionOutput(sample=sample)"
   ]
  },
  {
   "cell_type": "code",
   "execution_count": 50,
   "metadata": {},
   "outputs": [],
   "source": [
    "ad =AuxDecoder()"
   ]
  },
  {
   "cell_type": "code",
   "execution_count": 52,
   "metadata": {},
   "outputs": [
    {
     "data": {
      "text/plain": [
       "torch.Size([1, 3, 256, 256])"
      ]
     },
     "execution_count": 52,
     "metadata": {},
     "output_type": "execute_result"
    }
   ],
   "source": [
    "ad(torch.randn(1, 512, 32, 32)).shape"
   ]
  }
 ],
 "metadata": {
  "kernelspec": {
   "display_name": "test",
   "language": "python",
   "name": "python3"
  },
  "language_info": {
   "codemirror_mode": {
    "name": "ipython",
    "version": 3
   },
   "file_extension": ".py",
   "mimetype": "text/x-python",
   "name": "python",
   "nbconvert_exporter": "python",
   "pygments_lexer": "ipython3",
   "version": "3.10.11"
  },
  "orig_nbformat": 4
 },
 "nbformat": 4,
 "nbformat_minor": 2
}
